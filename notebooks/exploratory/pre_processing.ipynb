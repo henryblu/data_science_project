{
 "cells": [
  {
   "cell_type": "markdown",
   "metadata": {},
   "source": [
    "### **Step 1: Import Necessary Libraries**\n",
    "\n",
    "Start by importing the required libraries:"
   ]
  },
  {
   "cell_type": "code",
   "execution_count": 12,
   "metadata": {},
   "outputs": [],
   "source": [
    "import openai\n",
    "import json\n",
    "import os\n",
    "import time\n",
    "from tqdm import tqdm\n",
    "import random"
   ]
  },
  {
   "cell_type": "markdown",
   "metadata": {},
   "source": [
    "### **Step 2: Define File Paths**\n",
    "\n",
    "Set the input and output file paths:"
   ]
  },
  {
   "cell_type": "code",
   "execution_count": 7,
   "metadata": {},
   "outputs": [],
   "source": [
    "input_file = '../../data/raw/fullrjokesdata.json'\n",
    "output_file = '../../data/processed/joke_selection_untaged.json'"
   ]
  },
  {
   "cell_type": "markdown",
   "metadata": {},
   "source": [
    "\n",
    "### **Step 3: Specify Relevant Columns**\n",
    "\n",
    "List the columns we want to retain:"
   ]
  },
  {
   "cell_type": "code",
   "execution_count": 5,
   "metadata": {},
   "outputs": [],
   "source": [
    "relevant_columns = ['id', 'title', 'selftext', 'ups', 'score', 'created_utc']"
   ]
  },
  {
   "cell_type": "markdown",
   "metadata": {},
   "source": [
    "\n",
    "### **Step 4: Process the Data**\n",
    "\n",
    "Since the dataset is large, we'll read and process it line by line:"
   ]
  },
  {
   "cell_type": "code",
   "execution_count": 10,
   "metadata": {},
   "outputs": [
    {
     "name": "stderr",
     "output_type": "stream",
     "text": [
      "Processing jokes: 1064928it [00:05, 190753.01it/s]"
     ]
    },
    {
     "name": "stdout",
     "output_type": "stream",
     "text": [
      "Total jokes after filtering: 98070\n"
     ]
    },
    {
     "name": "stderr",
     "output_type": "stream",
     "text": [
      "\n"
     ]
    }
   ],
   "source": [
    "# Initialize a counter for the number of jokes processed\n",
    "jokes_count = 0\n",
    "\n",
    "# Open the input and output files\n",
    "with open(input_file, 'r', encoding='utf-8') as infile, \\\n",
    "     open(output_file, 'w', encoding='utf-8') as outfile:\n",
    "\n",
    "    # Iterate over each line (each joke)\n",
    "    for line in tqdm(infile, desc='Processing jokes'):\n",
    "        try:\n",
    "            # Parse the JSON line\n",
    "            joke = json.loads(line)\n",
    "            \n",
    "            # Filter jokes with more than 50 score\n",
    "            if joke.get('score', 0) > 50:\n",
    "                # Extract relevant columns\n",
    "                filtered_joke = {key: joke.get(key, None) for key in relevant_columns}\n",
    "                \n",
    "                # Write the filtered joke to the output file\n",
    "                json.dump(filtered_joke, outfile)\n",
    "                outfile.write('\\n')  # Write each joke on a new line\n",
    "                \n",
    "                jokes_count += 1\n",
    "        except json.JSONDecodeError:\n",
    "            # Skip lines that are not valid JSON\n",
    "            continue\n",
    "\n",
    "print(f\"Total jokes after filtering: {jokes_count}\")"
   ]
  },
  {
   "cell_type": "markdown",
   "metadata": {},
   "source": [
    "### **Step 5: Verify the Output**\n",
    "\n",
    "To make sure the data has been correctly processed, we will read a few lines from the processed file to ensure everything worked correctly:\n"
   ]
  },
  {
   "cell_type": "code",
   "execution_count": 11,
   "metadata": {},
   "outputs": [
    {
     "name": "stdout",
     "output_type": "stream",
     "text": [
      "{'id': '8rch9', 'title': 'How do you know your girlfriend is getting fat?', 'selftext': '', 'ups': 73, 'score': 73, 'created_utc': 1244640182.0}\n",
      "{'id': '99k53', 'title': 'Knock knock... [pic]', 'selftext': '', 'ups': 84, 'score': 84, 'created_utc': 1249996447.0}\n",
      "{'id': '9p7em', 'title': 'Husband Asks Wife \"What would you do if I hit the lottery?\"', 'selftext': \"A husband ask's his wife...what would you do if I hit the lotto? She replies I'd take half and leave your ass...the husband says..okay I just won 12 bucks on this scratch off...here's 6 bux now get the fuck out!\", 'ups': 62, 'score': 62, 'created_utc': 1254242875.0}\n",
      "{'id': 'a0ut6', 'title': \"Don't do that.\", 'selftext': 'One day a little girl is outside with her father. She claps her hands together and said \"Daddy, I killed a butterfly.\" Her father replied \"Don\\'t do that, butterflies are our friends. No butter for a week.\" A little while later the girl was playing and she clapped her hands and said \"Daddy, daddy, I killed a honeybee!\" Her father said, \"Don\\'t do that, honeybees are our friends. No honey for a week.\" Later on that day the girl and her father were in the kitchen. The girl\\'s mother joined them. The mother stamped her foot and said, \"I killed a cockroach.\" Then the little girl said to her father, \"Should I tell her or do you want to?\" ', 'ups': 62, 'score': 62, 'created_utc': 1257339411.0}\n",
      "{'id': 'a26ky', 'title': \"What's big, gray and unimportant?\", 'selftext': 'An irrelephant.', 'ups': 63, 'score': 63, 'created_utc': 1257689962.0}\n"
     ]
    }
   ],
   "source": [
    "with open(output_file, 'r', encoding='utf-8') as f:\n",
    "    for _ in range(5):\n",
    "        line = f.readline()\n",
    "        joke = json.loads(line)\n",
    "        print(joke)"
   ]
  },
  {
   "cell_type": "markdown",
   "metadata": {},
   "source": [
    "### Step 6: Select a Test Set of High-Scoring Jokes\n",
    "\n",
    "In this step, we will load the processed jokes from the file `joke_selection_untaged.json` and extract a small test set of jokes with high scores. The purpose of this test set is to explore tagging strategies and test our heuristics on jokes that received positive feedback from users. We'll define a threshold for \"high-scoring\" jokes and randomly select a small subset for experimentation.\n",
    "\n",
    "#### Criteria for Selecting the Test Set:\n",
    "- Jokes with a score above a certain threshold (e.g., `score > 90`).\n",
    "- Randomly select 10 jokes to form the test set.\n"
   ]
  },
  {
   "cell_type": "code",
   "execution_count": 14,
   "metadata": {},
   "outputs": [
    {
     "name": "stdout",
     "output_type": "stream",
     "text": [
      "[{'id': '4yuoxi', 'title': 'An engineer goes to hell...', 'selftext': 'An engineer dies and goes to Hell. He\\'s hot and miserable, so he decides to take action. The A/C has been busted for a long time, so he fixes it. Things cool down quickly. The moving walkway motor is jammed, so he unjams it. People can get from place to place more easily. The TV was grainy and unclear, so he fixes the connection to the satellite dish, and now they get hundreds of high def channels.\\n\\n\\nOne day, God decides to look down on Hell to see how his grand design is working out and notices that everyone is happy and enjoying umbrella drinks. He asks the Devil what\\'s up?\\nThe Devil says, \"Things are great down here since you sent us an engineer.\"\\n\"What?\" says God. \"An engineer? I didn\\'t send you one of those. That must have been a mistake. Send him upstairs immediately.\"\\nThe Devil responds, \"No way. We want to keep our engineer. We like him.\"\\nGod demands, \"If you don\\'t send him to me immediately, I\\'ll sue!\"\\nThe Devil laughs. \"Where are you going to get a lawyer?\"', 'ups': 10567, 'score': 10567, 'created_utc': 1471783639.0}, {'id': 'd7tbnq', 'title': 'What are you going to do in the weekend?', 'selftext': '\"I\\'m going to buy glasses.\"\\n\\n\"And then what?\"\\n\\n\"Then I\\'ll see.\"', 'ups': 24544, 'score': 24544, 'created_utc': 1569172155.0}, {'id': 'ag8c5q', 'title': 'A sailor and a priest are out golfing.', 'selftext': '[deleted]', 'ups': 24902, 'score': 24902, 'created_utc': 1547557817.0}, {'id': '4m9six', 'title': 'When I noticed \"HI\" in the alphabet, I thought someone was actually going to be my friend.', 'selftext': 'Then I saw the next two letters...', 'ups': 2309, 'score': 2309, 'created_utc': 1464906766.0}, {'id': '2t3xcp', 'title': 'How do you drown a hipster', 'selftext': '[deleted]', 'ups': 248, 'score': 248, 'created_utc': 1421797004.0}, {'id': 'c3cciw', 'title': 'My wife is turning 32 soon', 'selftext': 'I’ve told her not to get her hopes up for her birthday. “After all,” I said, “The celebrations are only going to last half a minute.”\\n\\n“What are you talking about?” she asked.\\n\\nI said, “It’s your thirty-second birthday.”', 'ups': 123, 'score': 123, 'created_utc': 1561132517.0}, {'id': '3lbcta', 'title': 'One good thing about premature ejaculation is that porn lasts you a very long time. I bought a video back in 1992 and I still haven’t made it past the FBI warning thing.', 'selftext': '', 'ups': 2290, 'score': 2290, 'created_utc': 1442505283.0}, {'id': '8izkxg', 'title': 'Hired a hitman to kill my wife of 40 years', 'selftext': '\"I\\'ll shoot her just below the left breast\" he said.\\n\\nI replied \"I want her dead mate, not fucking kneecapped\"', 'ups': 288, 'score': 288, 'created_utc': 1526165433.0}, {'id': '59oa6n', 'title': 'Husband Msg Confirmation........', 'selftext': '[removed]', 'ups': 141, 'score': 141, 'created_utc': 1477578840.0}, {'id': '521amt', 'title': 'Dad, is that dog over there a wiener dog?', 'selftext': 'Son, with enough peanut butter every dog is a wiener dog.', 'ups': 225, 'score': 225, 'created_utc': 1473477545.0}, {'id': '5t1fyv', 'title': 'How to get free internet @ home', 'selftext': 'I live in an apartment complex so I have neighbors left to right and below me. One day I asked my neighbor if he was interested in splitting the cost of my wifi 50/50 so he could also use it. He agreed. I went on to my other neighbor downstairs and asked him the same thing. Now both my neighbors are paying for my wifi.', 'ups': 326, 'score': 326, 'created_utc': 1486661645.0}, {'id': '6isnto', 'title': 'A university student wanted to sit next to his professor at break time.', 'selftext': 'However, the teacher regarded the student with a haughty face and said:\\n \\n“A dove should not be friends with a donkey.”\\n \\n“Then I shall fly on” the student replied with a cheeky smile.\\n \\nThe teacher was clearly annoyed by the cheeky reply and decided to make sure to do everything in his power to fail the student in his exams.\\n \\nIn the oral exam, he gave the student the hardest questions, but the student had incredible answers for everything. Therefore, hoping he could still fail his victim, the teacher asked him a trickier question:\\n \\n“You\\'re walking on a road and you find two bags. One contains gold, the other cleverness. Which bag do you choose?”\\n \\n“The gold.” \\n \\n“I don\\'t agree. I would choose cleverness, because that\\'s more important than money.”\\n \\n“Everyone would choose what they don\\'t have” says the student.\\n \\nThe teacher turns red, and he is so outraged he writes \"ass\" on the student\\'s paper. The student leaves without looking at the paper. However, he returns shortly, gives back his paper and says:\\n \\n“Excuse me sir, you did sign my paper, but you forgot to give my grade!”\\n', 'ups': 20992, 'score': 20992, 'created_utc': 1498127762.0}, {'id': '6md820', 'title': 'A recent study shows that 9 out of 10 people addicted to brake fluid...', 'selftext': \"...just can't stop.\", 'ups': 285, 'score': 285, 'created_utc': 1499676085.0}, {'id': '54k3ry', 'title': 'Did you know Bruce Lee had a son other than Brandon? He was a famous vegetarian.', 'selftext': 'His name was Brock.', 'ups': 147, 'score': 147, 'created_utc': 1474888882.0}, {'id': '85r5h5', 'title': \"What's a pirate's favorite letter?\", 'selftext': '[deleted]', 'ups': 621, 'score': 621, 'created_utc': 1521534826.0}, {'id': '98xs0d', 'title': 'A Private is standing outside smoking', 'selftext': '[removed]', 'ups': 160, 'score': 160, 'created_utc': 1534801358.0}, {'id': '57s1tk', 'title': 'Rape in an elevator is wrong....', 'selftext': 'on so many levels', 'ups': 165, 'score': 165, 'created_utc': 1476633726.0}, {'id': 'cu46uj', 'title': 'A reporter walks into a bar...', 'selftext': 'A reporter walks into a bar in a small Louisiana town. He\\'s been sent by his editor in the big city to get a human interest story, and so he walks up to some burly guy in overalls and offers him a drink in return for the story of the best day of his life.\\n\\n\"Best day? Well, that must\\'ve been the day that Old Man Jones asked me for help. You see, his pretty little wife had wandered out and gotten lost in the bayou. So we put together a search party and went looking for her. Just before sundown, we found her...\"\\n\\nThis is great, thinks the reporter.\\n\\n\".. and then we all fucked her. Best damn day of my life.\"\\n\\n\"Holy shit,\" yells the reporter, \"that\\'s terrible. I can\\'t print that. Here, have another drink, and tell me about the second-best day of your life.\"\\n\\n\"Second-best, huh? That might\\'ve been the day Jim Bob\\'s prize hog broke out of its pen and got lost in the bayou. He was mighty attached to that hog, so we put together a search party and went looking. Just before sunset we found it. Then, we all fucked it. Not as great as Mrs. Jones, but pretty damn good.\"\\n\\n\"Damn it, man, I can\\'t possibly print that story,\" says the reporter despairingly. He decides on a different tack. \"How about another drink, and you tell me about the worst day of your life?\"\\n\\nHillbilly\\'s face falls. \"Worst day of my life? Well, that had to be the day I got lost in the bayou...\"\\n\\n\\n\\n\\n\\nEdit -- My first gold! It\\'s like the 3rd best day of my life!', 'ups': 463, 'score': 463, 'created_utc': 1566510274.0}, {'id': '21uaoq', 'title': \"A Farmer in Cornwall see's a bloke drinking from his stream\", 'selftext': ' He shouts, \"Wozzon! Ee den wanna be drinkin dat, t\\'is fulla horse piss an cow shit\".\\n\\nThe bloke says \"I\\'m from london and just purchased a property in the village can you speak bit slower please\".\\n\\n\\nThe Farmer replies \"If - you -use - two - hands - you - won\\'t - spill - any\"!!!!!', 'ups': 96, 'score': 96, 'created_utc': 1396285348.0}, {'id': '3s497s', 'title': 'My wife and I were happy for twenty years...', 'selftext': 'Then we met.', 'ups': 437, 'score': 437, 'created_utc': 1447064040.0}]\n"
     ]
    }
   ],
   "source": [
    "\n",
    "# Define the threshold for high-scoring jokes\n",
    "score_threshold = 90\n",
    "test_set_size = 20\n",
    "\n",
    "# Load the filtered jokes and gather high-scoring jokes\n",
    "high_scoring_jokes = []\n",
    "\n",
    "with open(output_file, 'r', encoding='utf-8') as infile:\n",
    "    for line in infile:\n",
    "        joke = json.loads(line)\n",
    "        if joke.get('score', 0) > score_threshold:\n",
    "            high_scoring_jokes.append(joke)\n",
    "\n",
    "# Randomly select a subset of high-scoring jokes for the test set\n",
    "test_set = random.sample(high_scoring_jokes, min(test_set_size, len(high_scoring_jokes)))\n",
    "\n",
    "# Display the selected test set of jokes\n",
    "print(test_set)\n"
   ]
  },
  {
   "cell_type": "markdown",
   "metadata": {},
   "source": [
    "### **Step 7: Tagging Jokes Using ChatGPT**\n",
    "\n",
    "In this step, we'll use OpenAI's GPT model to automatically tag our selected test set of jokes based on predefined categories. We'll utilize the OpenAI API to send each joke to the model and receive the corresponding tags."
   ]
  },
  {
   "cell_type": "code",
   "execution_count": null,
   "metadata": {},
   "outputs": [],
   "source": []
  },
  {
   "cell_type": "code",
   "execution_count": null,
   "metadata": {},
   "outputs": [],
   "source": []
  }
 ],
 "metadata": {
  "kernelspec": {
   "display_name": "Python 3",
   "language": "python",
   "name": "python3"
  },
  "language_info": {
   "codemirror_mode": {
    "name": "ipython",
    "version": 3
   },
   "file_extension": ".py",
   "mimetype": "text/x-python",
   "name": "python",
   "nbconvert_exporter": "python",
   "pygments_lexer": "ipython3",
   "version": "3.12.6"
  }
 },
 "nbformat": 4,
 "nbformat_minor": 2
}
